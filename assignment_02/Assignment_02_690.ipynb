{
  "nbformat": 4,
  "nbformat_minor": 0,
  "metadata": {
    "colab": {
      "name": "Assignment_02_690.ipynb",
      "provenance": [],
      "authorship_tag": "ABX9TyPyAFnUpS2fnQHtgZrRkGdF",
      "include_colab_link": true
    },
    "kernelspec": {
      "name": "python3",
      "display_name": "Python 3"
    },
    "language_info": {
      "name": "python"
    }
  },
  "cells": [
    {
      "cell_type": "markdown",
      "metadata": {
        "id": "view-in-github",
        "colab_type": "text"
      },
      "source": [
        "<a href=\"https://colab.research.google.com/github/krishnasidhvi/krishna_data690/blob/main/assignment_02/Assignment_02_690.ipynb\" target=\"_parent\"><img src=\"https://colab.research.google.com/assets/colab-badge.svg\" alt=\"Open In Colab\"/></a>"
      ]
    },
    {
      "cell_type": "markdown",
      "source": [
        "#Assignment 2\n"
      ],
      "metadata": {
        "id": "qiQ7RM5b722l"
      }
    },
    {
      "cell_type": "markdown",
      "source": [
        "#**Prompting the User to enter 10 Integers**"
      ],
      "metadata": {
        "id": "YsI6qULrKvpn"
      }
    },
    {
      "cell_type": "code",
      "execution_count": 57,
      "metadata": {
        "colab": {
          "base_uri": "https://localhost:8080/"
        },
        "id": "6R18k0X0zNnj",
        "outputId": "c0124af0-655a-430b-b346-841072f05fc3"
      },
      "outputs": [
        {
          "output_type": "stream",
          "name": "stdout",
          "text": [
            "Please enter an integer: 1\n",
            "Please enter an integer: 2\n",
            "Please enter an integer: g\n",
            "Not an integer! try again ...\n",
            "Please enter an integer: 6\n",
            "Please enter an integer: 7\n",
            "Please enter an integer: 8\n",
            "Please enter an integer: 9\n",
            "Please enter an integer: 10\n",
            "Please enter an integer: 3\n",
            "Please enter an integer: 4\n",
            "Please enter an integer: 5\n",
            "You have entered 10 integers:[1, 2, 6, 7, 8, 9, 10, 3, 4, 5]\n"
          ]
        }
      ],
      "source": [
        "#Creation of empty list for storing the user inputs\n",
        "s=[]\n",
        "#Allowing only 10 Integers\n",
        "for i in range(10):\n",
        "  while True:\n",
        "    try:\n",
        "        n = int(input(\"Please enter an integer: \"))\n",
        "        s.append(n)#appending the integers into the list\n",
        "        break\n",
        "    except ValueError:\n",
        "        print(\"Not an integer! try again ...\")#warn for the users to input only integers\n",
        "print(f'You have entered 10 integers:{s}')#Printing the entered Integer values"
      ]
    },
    {
      "cell_type": "markdown",
      "source": [
        "#**Finding the minimum value**"
      ],
      "metadata": {
        "id": "vcYF2t7UK9P7"
      }
    },
    {
      "cell_type": "code",
      "source": [
        "min=s[0]\n",
        "x=0\n",
        "#iterating through the above list entered\n",
        "for i in s:\n",
        "  x=x+i\n",
        "#comparing each value in the list with the minimum value\n",
        "  if i < min:\n",
        "      min=i\n",
        "print(f'The minimum integer in the list :{min}')\n"
      ],
      "metadata": {
        "colab": {
          "base_uri": "https://localhost:8080/"
        },
        "id": "J53WtOPa-zfn",
        "outputId": "d70a757e-b64a-4db4-86f3-a5494e9e7ac0"
      },
      "execution_count": 64,
      "outputs": [
        {
          "output_type": "stream",
          "name": "stdout",
          "text": [
            "The minimum integer in the list :1\n"
          ]
        }
      ]
    },
    {
      "cell_type": "markdown",
      "source": [
        "#**Finding the maximum value**"
      ],
      "metadata": {
        "id": "vR8m7YmLLLLT"
      }
    },
    {
      "cell_type": "code",
      "source": [
        "max=s[0]\n",
        "y=0\n",
        "#iterating through the above list entered\n",
        "for j in s:\n",
        "  y=y+j\n",
        "#comparing each value in the list with the maximum value\n",
        "  if j > max:\n",
        "      max=j\n",
        "print(f'The maximum integer in the list:{max}')"
      ],
      "metadata": {
        "colab": {
          "base_uri": "https://localhost:8080/"
        },
        "id": "wTiA9ZmhDZrz",
        "outputId": "887f17f9-2ef1-4393-c7b4-9ae88088009a"
      },
      "execution_count": 65,
      "outputs": [
        {
          "output_type": "stream",
          "name": "stdout",
          "text": [
            "The maximum integer in the list:10\n"
          ]
        }
      ]
    },
    {
      "cell_type": "markdown",
      "source": [
        "# **Mean of the Integers**\n",
        "\n",
        "*  sum of the Integers/Number of Integers\n",
        "\n",
        "\n",
        "\n",
        "\n",
        "\n"
      ],
      "metadata": {
        "id": "DTwI0qEfLT_U"
      }
    },
    {
      "cell_type": "code",
      "source": [
        "sum = 0\n",
        "count=0\n",
        "for i in s:\n",
        "#Finding the sum of the Integers\n",
        "  sum+= i\n",
        "  count+=1\n",
        "#Finding the mean of the values \n",
        "mean = sum/count\n",
        "print(f'Mean of list: {mean}')"
      ],
      "metadata": {
        "colab": {
          "base_uri": "https://localhost:8080/"
        },
        "id": "8jPVS__LtZAa",
        "outputId": "f7eeebc0-e0f5-419e-9a85-5caf9917adfb"
      },
      "execution_count": 66,
      "outputs": [
        {
          "output_type": "stream",
          "name": "stdout",
          "text": [
            "Mean of list: 5.5\n"
          ]
        }
      ]
    },
    {
      "cell_type": "markdown",
      "source": [
        "#**Range**\n",
        "\n",
        "*  Maximun value - Minimum value\n",
        "\n"
      ],
      "metadata": {
        "id": "EiHZTzU7MMiz"
      }
    },
    {
      "cell_type": "code",
      "source": [
        "#Range is defined as the difference between the minimum and maximum values\n",
        "print(f'Range of the elements:{max-min}')"
      ],
      "metadata": {
        "colab": {
          "base_uri": "https://localhost:8080/"
        },
        "id": "mqpWn7BosrRh",
        "outputId": "5ea1bb6a-09cd-4339-aa69-3b320e9b4c64"
      },
      "execution_count": 67,
      "outputs": [
        {
          "output_type": "stream",
          "name": "stdout",
          "text": [
            "Range of the elements:9\n"
          ]
        }
      ]
    },
    {
      "cell_type": "markdown",
      "source": [
        "#**Variance**"
      ],
      "metadata": {
        "id": "1HcA2j0oMm_e"
      }
    },
    {
      "cell_type": "code",
      "source": [
        "var = 0\n",
        "for i in s:\n",
        "  var = var + (i - mean)**2\n",
        "var = var / len(s)\n",
        "print(f'variance:{x}')"
      ],
      "metadata": {
        "colab": {
          "base_uri": "https://localhost:8080/"
        },
        "id": "VfkvdJrAH6Q_",
        "outputId": "162be598-c8c1-4a22-b4ba-0857c9e7777b"
      },
      "execution_count": 68,
      "outputs": [
        {
          "output_type": "stream",
          "name": "stdout",
          "text": [
            "variance:55\n"
          ]
        }
      ]
    },
    {
      "cell_type": "markdown",
      "source": [
        "#**Standard Deviation**"
      ],
      "metadata": {
        "id": "549KyUhMMt9S"
      }
    },
    {
      "cell_type": "code",
      "source": [
        "#Square root of variance is defined as standard deviation\n",
        "print(f'Standard Deviation : {x**0.5}')"
      ],
      "metadata": {
        "colab": {
          "base_uri": "https://localhost:8080/"
        },
        "id": "qSop6FWUI-ig",
        "outputId": "6164f174-5093-4c03-8f63-7eb4a0bee0ab"
      },
      "execution_count": 69,
      "outputs": [
        {
          "output_type": "stream",
          "name": "stdout",
          "text": [
            "Standard Deviation : 7.416198487095663\n"
          ]
        }
      ]
    }
  ]
}