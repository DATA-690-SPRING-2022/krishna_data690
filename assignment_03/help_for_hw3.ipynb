{
  "nbformat": 4,
  "nbformat_minor": 0,
  "metadata": {
    "colab": {
      "name": "help_for_hw3.ipynb",
      "provenance": [],
      "authorship_tag": "ABX9TyNwdcZI28rYwFertJf4RiZl",
      "include_colab_link": true
    },
    "kernelspec": {
      "name": "python3",
      "display_name": "Python 3"
    },
    "language_info": {
      "name": "python"
    }
  },
  "cells": [
    {
      "cell_type": "markdown",
      "metadata": {
        "id": "view-in-github",
        "colab_type": "text"
      },
      "source": [
        "<a href=\"https://colab.research.google.com/github/krishnasidhvi/krishna_data690/blob/main/assignment_03/help_for_hw3.ipynb\" target=\"_parent\"><img src=\"https://colab.research.google.com/assets/colab-badge.svg\" alt=\"Open In Colab\"/></a>"
      ]
    },
    {
      "cell_type": "code",
      "execution_count": 1,
      "metadata": {
        "colab": {
          "base_uri": "https://localhost:8080/"
        },
        "id": "DIZq0M42w7Hr",
        "outputId": "19bcfbf7-e6ff-4111-f5c1-8df2394f67c3"
      },
      "outputs": [
        {
          "output_type": "stream",
          "name": "stdout",
          "text": [
            "[2, 5, 12, 'sid', 'Krish']\n"
          ]
        }
      ],
      "source": [
        "x = [2,5,12, \"sid\", \"Krish\"]\n",
        "print(x)"
      ]
    },
    {
      "cell_type": "code",
      "source": [
        "for a in x:\n",
        "  print(a, end=\" * \")"
      ],
      "metadata": {
        "colab": {
          "base_uri": "https://localhost:8080/"
        },
        "id": "tikOCK4JzuNJ",
        "outputId": "1118a5bf-c1d8-45f5-dda9-3a9cdc674482"
      },
      "execution_count": 13,
      "outputs": [
        {
          "output_type": "stream",
          "name": "stdout",
          "text": [
            "2 * 5 * 12 * sid * Krish * "
          ]
        }
      ]
    },
    {
      "cell_type": "code",
      "source": [
        "5 in x"
      ],
      "metadata": {
        "colab": {
          "base_uri": "https://localhost:8080/"
        },
        "id": "2PeQKMjsxla4",
        "outputId": "bf80f4e6-fe82-4f36-937e-e87558c5b2f1"
      },
      "execution_count": 4,
      "outputs": [
        {
          "output_type": "execute_result",
          "data": {
            "text/plain": [
              "True"
            ]
          },
          "metadata": {},
          "execution_count": 4
        }
      ]
    },
    {
      "cell_type": "code",
      "source": [
        "if 5 in x:\n",
        "  print(\"5 is a member of list x.\")\n",
        "else:\n",
        "  print(\"5 is not a member\")"
      ],
      "metadata": {
        "colab": {
          "base_uri": "https://localhost:8080/"
        },
        "id": "vQ9OK6K9xWq6",
        "outputId": "7819c255-2b23-4a8a-e334-cf3ee36e5306"
      },
      "execution_count": 10,
      "outputs": [
        {
          "output_type": "stream",
          "name": "stdout",
          "text": [
            "5 is a member of list x.\n"
          ]
        }
      ]
    },
    {
      "cell_type": "code",
      "source": [
        "y=[5, 1, 5, 6, 2, 7, 8, 6, 4, 2]\n",
        "print(y)"
      ],
      "metadata": {
        "colab": {
          "base_uri": "https://localhost:8080/"
        },
        "id": "LfAKECjxzCyN",
        "outputId": "02e48ba3-0dab-4ec5-835e-6599551ea48a"
      },
      "execution_count": 11,
      "outputs": [
        {
          "output_type": "stream",
          "name": "stdout",
          "text": [
            "[5, 1, 5, 6, 2, 7, 8, 6, 4, 2]\n"
          ]
        }
      ]
    },
    {
      "cell_type": "code",
      "source": [
        "for b in y:\n",
        "  print(b, end=\" * \")"
      ],
      "metadata": {
        "colab": {
          "base_uri": "https://localhost:8080/"
        },
        "id": "RQ5PBxz7zUOv",
        "outputId": "39bbda5c-af6f-4da2-fbb4-0e7b0c29558c"
      },
      "execution_count": 14,
      "outputs": [
        {
          "output_type": "stream",
          "name": "stdout",
          "text": [
            "5 * 1 * 5 * 6 * 2 * 7 * 8 * 6 * 4 * 2 * "
          ]
        }
      ]
    },
    {
      "cell_type": "code",
      "source": [
        "import random"
      ],
      "metadata": {
        "id": "tVqvZqMHz6rv"
      },
      "execution_count": 16,
      "outputs": []
    },
    {
      "cell_type": "code",
      "source": [
        "random.randint(0, 9)"
      ],
      "metadata": {
        "colab": {
          "base_uri": "https://localhost:8080/"
        },
        "id": "aehVfZjC0G8k",
        "outputId": "ceb8744b-f4e1-4610-e919-07e4e406c044"
      },
      "execution_count": 25,
      "outputs": [
        {
          "output_type": "execute_result",
          "data": {
            "text/plain": [
              "8"
            ]
          },
          "metadata": {},
          "execution_count": 25
        }
      ]
    },
    {
      "cell_type": "code",
      "source": [
        "for i in range(10):\n",
        " print(random.randint(0, 9), end=\" \")"
      ],
      "metadata": {
        "colab": {
          "base_uri": "https://localhost:8080/"
        },
        "id": "qesKX0dH0gQF",
        "outputId": "acb57c4d-0a27-437d-b9f6-9d2eca5a9a3c"
      },
      "execution_count": 31,
      "outputs": [
        {
          "output_type": "stream",
          "name": "stdout",
          "text": [
            "7 0 2 3 2 7 7 1 8 4 "
          ]
        }
      ]
    },
    {
      "cell_type": "code",
      "source": [
        "for j in range(10):\n",
        "  for i in range(10):\n",
        "    print(random.randint(0, 9), end=\" \")\n",
        "#  print(\"/n\", end=\" \")\n",
        "  print(\"\")"
      ],
      "metadata": {
        "colab": {
          "base_uri": "https://localhost:8080/"
        },
        "id": "ZUo-7q362bE5",
        "outputId": "9ddf83cf-1044-433c-9254-a0ba7f728df3"
      },
      "execution_count": 36,
      "outputs": [
        {
          "output_type": "stream",
          "name": "stdout",
          "text": [
            "4 3 9 4 4 9 4 7 0 3 \n",
            "4 2 1 1 9 0 1 0 0 5 \n",
            "6 6 4 2 6 5 3 4 7 0 \n",
            "8 0 9 7 4 3 7 4 1 2 \n",
            "9 5 1 3 9 4 8 8 8 4 \n",
            "9 8 4 4 0 1 2 0 4 5 \n",
            "7 4 9 3 8 5 8 2 5 8 \n",
            "1 0 9 3 5 4 4 6 9 4 \n",
            "6 2 9 3 6 6 7 0 8 2 \n",
            "4 6 2 2 0 9 1 2 0 1 \n"
          ]
        }
      ]
    }
  ]
}