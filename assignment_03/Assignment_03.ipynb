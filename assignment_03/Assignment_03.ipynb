{
  "nbformat": 4,
  "nbformat_minor": 0,
  "metadata": {
    "colab": {
      "name": "Assignment_03.ipynb",
      "provenance": [],
      "authorship_tag": "ABX9TyN8w65iMcv1ZmRLw5j3dG00",
      "include_colab_link": true
    },
    "kernelspec": {
      "name": "python3",
      "display_name": "Python 3"
    },
    "language_info": {
      "name": "python"
    }
  },
  "cells": [
    {
      "cell_type": "markdown",
      "metadata": {
        "id": "view-in-github",
        "colab_type": "text"
      },
      "source": [
        "<a href=\"https://colab.research.google.com/github/krishnasidhvi/krishna_data690/blob/main/assignment_03/Assignment_03.ipynb\" target=\"_parent\"><img src=\"https://colab.research.google.com/assets/colab-badge.svg\" alt=\"Open In Colab\"/></a>"
      ]
    },
    {
      "cell_type": "markdown",
      "source": [
        "# Assignment 3"
      ],
      "metadata": {
        "id": "CpgKLlKPq77p"
      }
    },
    {
      "cell_type": "markdown",
      "source": [
        "### 1)Write a program that generates 100 random integers between 0 and 9.\n",
        "\n",
        "- Print them in a 10 by 10 matrix (one space between each number):"
      ],
      "metadata": {
        "id": "f4y5NWnnrEJW"
      }
    },
    {
      "cell_type": "code",
      "execution_count": 1,
      "metadata": {
        "colab": {
          "base_uri": "https://localhost:8080/"
        },
        "id": "XuLwRu2sUpFG",
        "outputId": "df83079b-9873-4bef-f0d5-68bfd60c38b5"
      },
      "outputs": [
        {
          "output_type": "stream",
          "name": "stdout",
          "text": [
            "6 3 0 9 5 9 5 6 1 7 \n",
            "8 1 4 7 1 8 5 3 4 9 \n",
            "7 4 5 2 1 6 6 9 7 8 \n",
            "0 5 5 9 4 6 1 9 5 1 \n",
            "4 5 9 9 7 8 7 5 1 6 \n",
            "6 6 8 7 2 3 9 8 7 1 \n",
            "1 9 6 7 0 5 5 5 5 7 \n",
            "8 6 1 5 5 4 9 9 8 4 \n",
            "2 6 7 4 7 7 7 0 8 1 \n",
            "2 8 0 1 0 2 0 7 7 4 \n"
          ]
        }
      ],
      "source": [
        "import random\n",
        "for i in range(10):\n",
        "  for j in range(10):\n",
        "   print(random.randint(0, 9), end=\" \")\n",
        "  print()"
      ]
    },
    {
      "cell_type": "markdown",
      "source": [
        "### 2)If the random number is an odd number, print \"@\" instead"
      ],
      "metadata": {
        "id": "DAzrDtAirWW1"
      }
    },
    {
      "cell_type": "code",
      "source": [
        "for i in range(10):\n",
        "  for j in range(10):\n",
        "    x=random.randint(0, 9)\n",
        "    if (x+1)%2==0:\n",
        "      x=\"@\"\n",
        "      print(x, end=\" \")\n",
        "    else:\n",
        "      print(x,end=\" \")\n",
        "  print()"
      ],
      "metadata": {
        "colab": {
          "base_uri": "https://localhost:8080/"
        },
        "id": "EN-AWFNsan0O",
        "outputId": "88f19cc9-44e1-4ea5-a604-f0ed7a5d75d7"
      },
      "execution_count": 2,
      "outputs": [
        {
          "output_type": "stream",
          "name": "stdout",
          "text": [
            "4 @ 0 @ @ @ 2 @ @ 4 \n",
            "@ @ 4 @ @ 6 @ @ @ 4 \n",
            "@ 6 @ 8 @ @ @ 8 0 @ \n",
            "@ 6 8 8 0 @ 8 @ @ @ \n",
            "@ 2 4 @ @ @ 0 4 6 0 \n",
            "@ @ 8 0 0 0 @ @ @ @ \n",
            "6 2 6 8 4 2 @ @ @ @ \n",
            "0 0 @ @ 2 6 2 0 2 2 \n",
            "@ 6 6 @ 4 0 @ 4 2 @ \n",
            "2 4 @ 8 0 0 @ @ 4 0 \n"
          ]
        }
      ]
    },
    {
      "cell_type": "markdown",
      "source": [
        "### 3) Calculate and Print the total of each row(use \"*\" to separate the total from the numbers):"
      ],
      "metadata": {
        "id": "DnfKNkvRrfeb"
      }
    },
    {
      "cell_type": "code",
      "source": [
        "for i in range(10):\n",
        "  s=[]\n",
        "  for j in range(12):\n",
        "    if j<10:\n",
        "      x=random.randint(0, 9)\n",
        "      s.append(x)\n",
        "      print(x, end=\" \")\n",
        "    elif j==10:\n",
        "      print(\"*\", end=\" \")\n",
        "    else:\n",
        "      a=0\n",
        "      a=sum(s)\n",
        "      print(a)"
      ],
      "metadata": {
        "colab": {
          "base_uri": "https://localhost:8080/"
        },
        "id": "KOotMATNax90",
        "outputId": "100708d9-a1a7-4ee0-f30b-93885c14c10d"
      },
      "execution_count": 3,
      "outputs": [
        {
          "output_type": "stream",
          "name": "stdout",
          "text": [
            "6 8 9 9 4 1 7 6 4 4 * 58\n",
            "3 8 5 9 7 4 6 6 9 8 * 65\n",
            "5 0 4 1 5 5 3 5 7 2 * 37\n",
            "7 6 6 7 5 6 1 3 6 5 * 52\n",
            "8 8 0 6 3 5 5 0 9 6 * 50\n",
            "1 5 5 3 5 0 0 8 2 3 * 32\n",
            "4 0 5 2 3 1 2 6 6 9 * 38\n",
            "3 5 2 1 1 8 4 6 4 6 * 40\n",
            "7 4 2 2 4 4 7 0 7 8 * 45\n",
            "3 0 2 1 2 0 6 3 6 3 * 26\n"
          ]
        }
      ]
    },
    {
      "cell_type": "markdown",
      "source": [
        "### 4)  Surrounding the matrix with asterisks (*)"
      ],
      "metadata": {
        "id": "dnIKEXOOrvPI"
      }
    },
    {
      "cell_type": "code",
      "source": [
        "print(\"***********************\")\n",
        "for k in range(10):\n",
        "    print(\"*\", end=\" \")\n",
        "    for l in range(10):\n",
        "        m = random.randint(0,9)\n",
        "        print(m, end = \" \")\n",
        "    print(\"*\")\n",
        "print(\"***********************\")"
      ],
      "metadata": {
        "colab": {
          "base_uri": "https://localhost:8080/"
        },
        "id": "txB9roRQjmNw",
        "outputId": "a57e0112-79cd-4f89-e854-393ac46f17f5"
      },
      "execution_count": 9,
      "outputs": [
        {
          "output_type": "stream",
          "name": "stdout",
          "text": [
            "***********************\n",
            "* 5 2 3 7 4 9 3 1 6 1 *\n",
            "* 3 8 2 9 7 0 6 9 1 5 *\n",
            "* 9 1 7 5 9 7 9 8 7 9 *\n",
            "* 7 5 5 6 9 1 4 4 0 0 *\n",
            "* 8 2 1 0 0 6 6 2 6 0 *\n",
            "* 7 7 9 8 8 0 1 1 9 2 *\n",
            "* 3 0 2 6 0 6 1 4 7 8 *\n",
            "* 1 9 3 0 5 0 9 3 4 7 *\n",
            "* 5 1 0 0 5 1 0 6 9 2 *\n",
            "* 2 4 9 5 4 9 2 4 1 7 *\n",
            "***********************\n"
          ]
        }
      ]
    },
    {
      "cell_type": "markdown",
      "source": [
        "### 5) Calculate and Print the total of each row and column."
      ],
      "metadata": {
        "id": "2ESQFTUyr6g-"
      }
    },
    {
      "cell_type": "code",
      "source": [
        "array = [0,0,0,0,0,0,0,0,0,0]\n",
        "for i in range(0, 12):\n",
        "    a=0\n",
        "    for j in range(0, 10):\n",
        "        if(i==10):\n",
        "            print(\"*\",end=\"  \")\n",
        "        elif(i==11):\n",
        "            print(array[j], end=\" \")\n",
        "        else:    \n",
        "            b =random.randint(0, 9)\n",
        "            array[j]+=b\n",
        "            a+=b\n",
        "            print(b,end=\"  \")\n",
        "    if(i<10):        \n",
        "        print(\"*\",a)    \n",
        "    else:\n",
        "        print()"
      ],
      "metadata": {
        "colab": {
          "base_uri": "https://localhost:8080/"
        },
        "id": "1kAPzEl7pe6P",
        "outputId": "76776f02-5aa6-4e5c-c408-77808e913628"
      },
      "execution_count": 20,
      "outputs": [
        {
          "output_type": "stream",
          "name": "stdout",
          "text": [
            "3  4  9  3  8  1  8  8  6  1  * 51\n",
            "3  2  2  8  1  5  8  9  0  4  * 42\n",
            "3  6  2  5  9  4  8  3  4  6  * 50\n",
            "6  6  4  6  7  7  0  3  9  1  * 49\n",
            "5  8  9  8  0  5  2  6  4  6  * 53\n",
            "7  4  1  4  9  8  0  3  2  0  * 38\n",
            "9  4  9  9  7  6  9  4  8  5  * 70\n",
            "2  8  3  0  6  5  7  4  0  4  * 39\n",
            "8  9  2  9  4  8  5  1  7  4  * 57\n",
            "0  5  2  1  5  7  7  8  5  0  * 40\n",
            "*  *  *  *  *  *  *  *  *  *  \n",
            "46 56 43 53 56 56 54 49 45 31 \n"
          ]
        }
      ]
    }
  ]
}