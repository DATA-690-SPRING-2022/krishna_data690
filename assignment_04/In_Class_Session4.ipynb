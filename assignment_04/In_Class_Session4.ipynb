{
  "nbformat": 4,
  "nbformat_minor": 0,
  "metadata": {
    "colab": {
      "name": "In_Class_Session4.ipynb",
      "provenance": [],
      "authorship_tag": "ABX9TyMkLAAx92P8XwjTHhH++ip+",
      "include_colab_link": true
    },
    "kernelspec": {
      "name": "python3",
      "display_name": "Python 3"
    },
    "language_info": {
      "name": "python"
    }
  },
  "cells": [
    {
      "cell_type": "markdown",
      "metadata": {
        "id": "view-in-github",
        "colab_type": "text"
      },
      "source": [
        "<a href=\"https://colab.research.google.com/github/krishnasidhvi/krishna_data690/blob/main/assignment_04/In_Class_Session4.ipynb\" target=\"_parent\"><img src=\"https://colab.research.google.com/assets/colab-badge.svg\" alt=\"Open In Colab\"/></a>"
      ]
    },
    {
      "cell_type": "markdown",
      "source": [
        "## Class practice\n",
        "\n",
        "- 02/21/22"
      ],
      "metadata": {
        "id": "2XWnIgt01CYg"
      }
    },
    {
      "cell_type": "code",
      "execution_count": 1,
      "metadata": {
        "colab": {
          "base_uri": "https://localhost:8080/"
        },
        "id": "Uw7W4oyNzda5",
        "outputId": "a7168e82-27ba-4a0a-8e06-c943b3def624"
      },
      "outputs": [
        {
          "output_type": "stream",
          "name": "stdout",
          "text": [
            "\n",
            " 0 4 @ 6 @ 0 @ 8 0 @ \n",
            " @ 6 8 0 8 @ 4 6 0 @ \n",
            " 0 2 @ 0 @ 6 4 2 4 @ \n",
            " @ @ 8 @ 4 8 @ 8 2 0 \n",
            " @ @ @ @ 8 4 @ 0 @ 2 \n",
            " 8 @ 2 0 @ @ @ @ @ 0 \n",
            " 4 @ @ @ @ @ @ @ 4 @ \n",
            " 6 4 6 6 @ @ 4 8 @ @ \n",
            " @ @ 0 @ 4 6 @ 2 @ 6 \n",
            " @ @ @ 2 0 6 @ @ 8 8 "
          ]
        }
      ],
      "source": [
        "import random\n",
        "import re\n",
        "for i in range(0,10):\n",
        "    print(end=\"\\n \")\n",
        "    for j in range(0,10):\n",
        "        num=random.randint(0,9)\n",
        "        if (num % 2) == 0:\n",
        "            print(num, end=\" \")\n",
        "        else:\n",
        "            strnum = str(num)\n",
        "            strnum=strnum.replace(strnum,\"@\")\n",
        "            print(strnum, end=\" \")"
      ]
    },
    {
      "cell_type": "code",
      "source": [
        "x= \"Hello, wporld!\"\n",
        "\n",
        "print(x)"
      ],
      "metadata": {
        "colab": {
          "base_uri": "https://localhost:8080/"
        },
        "id": "ToO6ocHV2FSU",
        "outputId": "02697f73-b053-4ef1-c4f5-27cf50b22b33"
      },
      "execution_count": 3,
      "outputs": [
        {
          "output_type": "stream",
          "name": "stdout",
          "text": [
            "Hello, wporld!\n"
          ]
        }
      ]
    },
    {
      "cell_type": "code",
      "source": [
        "x= x.replace(\"p\", \"\")\n",
        "\n",
        "print(x)"
      ],
      "metadata": {
        "colab": {
          "base_uri": "https://localhost:8080/"
        },
        "id": "Po6BUkAW2Ust",
        "outputId": "3ae23fa8-893c-4d01-cfa8-a366a6d95312"
      },
      "execution_count": 4,
      "outputs": [
        {
          "output_type": "stream",
          "name": "stdout",
          "text": [
            "Hello, world!\n"
          ]
        }
      ]
    },
    {
      "cell_type": "code",
      "source": [
        "x= x.replace(\"w\", \"W\")\n",
        "\n",
        "print(x)"
      ],
      "metadata": {
        "colab": {
          "base_uri": "https://localhost:8080/"
        },
        "id": "fLMxN22y2ivB",
        "outputId": "641a6d40-3885-4f58-8ac3-6a206cbed3ba"
      },
      "execution_count": 5,
      "outputs": [
        {
          "output_type": "stream",
          "name": "stdout",
          "text": [
            "Hello, World!\n"
          ]
        }
      ]
    },
    {
      "cell_type": "code",
      "source": [
        "x= x.upper()\n",
        "\n",
        "print(x)"
      ],
      "metadata": {
        "colab": {
          "base_uri": "https://localhost:8080/"
        },
        "id": "LH31OsG725cJ",
        "outputId": "773a2799-36d6-424b-8f85-638b12467642"
      },
      "execution_count": 6,
      "outputs": [
        {
          "output_type": "stream",
          "name": "stdout",
          "text": [
            "HELLO, WORLD!\n"
          ]
        }
      ]
    },
    {
      "cell_type": "code",
      "source": [
        "x= x.lower()\n",
        "\n",
        "print(x)"
      ],
      "metadata": {
        "colab": {
          "base_uri": "https://localhost:8080/"
        },
        "id": "PC5GkQJH2_w8",
        "outputId": "ddb0cba8-5172-44de-c03e-bb2b586ef645"
      },
      "execution_count": 7,
      "outputs": [
        {
          "output_type": "stream",
          "name": "stdout",
          "text": [
            "hello, world!\n"
          ]
        }
      ]
    },
    {
      "cell_type": "code",
      "source": [
        ""
      ],
      "metadata": {
        "id": "8f_5t9Pj3Us5"
      },
      "execution_count": null,
      "outputs": []
    }
  ]
}